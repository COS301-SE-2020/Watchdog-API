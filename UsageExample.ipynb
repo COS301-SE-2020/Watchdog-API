{
 "cells": [
  {
   "cell_type": "code",
   "execution_count": 1,
   "metadata": {},
   "outputs": [],
   "source": [
    "import os\n",
    "import json\n",
    "import requests\n",
    "import pprint\n",
    "from warrant.aws_srp import AWSSRP"
   ]
  },
  {
   "cell_type": "markdown",
   "metadata": {},
   "source": [
    "# Step 1: Get Token if you haven't previously\n",
    "\n",
    "- _client_id_ = id of the Client App (In this caase the HomeControlPanel in Cognito)\n",
    "- _user_pool_id_ = Watchdog User Pool id\n",
    "\n",
    "This gives you _tokens_ which is a dict object with the Access token, Refresh Token, and Id Token\n",
    "\n",
    "The Access Token can always be found in: \n",
    "```python\n",
    "    tokens[\"AuthenticationResult\"][\"AccessToken\"]\n",
    "```\n",
    "And this needs to to be send as a _Authorization_ Header"
   ]
  },
  {
   "cell_type": "code",
   "execution_count": 2,
   "metadata": {},
   "outputs": [],
   "source": [
    "client_id=\"5bl2caob065vqodmm3sobp3k7d\"\n",
    "client_secret = None\n",
    "user_pool_id = \"eu-west-1_mQ0D78123\"\n",
    "\n",
    "aws = AWSSRP(username='test', password='Test123@', pool_id=user_pool_id,\n",
    "             client_id=client_id, pool_region='eu-west-1')\n",
    "tokens = aws.authenticate_user()"
   ]
  },
  {
   "cell_type": "markdown",
   "metadata": {},
   "source": [
    "- *_get_location_url_* is the route in the api\n",
    "- *_upload_key_* is the name of the artifact\n",
    "- *_folder_* is the folder you would like to store it in"
   ]
  },
  {
   "cell_type": "code",
   "execution_count": 17,
   "metadata": {},
   "outputs": [],
   "source": [
    "get_location_url = \"https://la7nxehzwg.execute-api.af-south-1.amazonaws.com/alphav2/live/uploadclip/\"\n",
    "upload_key = \"test_prefilled_post.txt\"\n",
    "folder = \"video\""
   ]
  },
  {
   "cell_type": "markdown",
   "metadata": {},
   "source": [
    "*Firstly*, you get the presigned link.\n",
    "- This returns all the fields you require to upload to the S3 bucket\n"
   ]
  },
  {
   "cell_type": "code",
   "execution_count": 18,
   "metadata": {},
   "outputs": [
    {
     "name": "stdout",
     "output_type": "stream",
     "text": [
      "<Response [200]> : OK\n"
     ]
    }
   ],
   "source": [
    "resp = requests.post(get_location_url, params={\"upload_key\": upload_key, \"folder\": folder}, headers={'Authorization': f'TOK:{tokens[\"AuthenticationResult\"][\"AccessToken\"]}'})\n",
    "print(f'{resp} : {resp.reason}')"
   ]
  },
  {
   "cell_type": "code",
   "execution_count": 19,
   "metadata": {},
   "outputs": [],
   "source": [
    "response_dict = json.loads(resp.text)"
   ]
  },
  {
   "cell_type": "code",
   "execution_count": 20,
   "metadata": {},
   "outputs": [],
   "source": [
    "http_response = None\n",
    "with open(upload_key, 'rb') as binary_object:\n",
    "    files = {'file': (upload_key, binary_object)}\n",
    "    http_response = requests.post(response_dict['url'], data=response_dict['fields'], files=files)"
   ]
  },
  {
   "cell_type": "code",
   "execution_count": 21,
   "metadata": {},
   "outputs": [
    {
     "name": "stdout",
     "output_type": "stream",
     "text": [
      "<Response [204]>: No Content\n"
     ]
    }
   ],
   "source": [
    "print(f'{http_response}: {http_response.reason}')"
   ]
  },
  {
   "cell_type": "code",
   "execution_count": null,
   "metadata": {},
   "outputs": [],
   "source": []
  }
 ],
 "metadata": {
  "kernelspec": {
   "display_name": "Python 3",
   "language": "python",
   "name": "python3"
  },
  "language_info": {
   "codemirror_mode": {
    "name": "ipython",
    "version": 3
   },
   "file_extension": ".py",
   "mimetype": "text/x-python",
   "name": "python",
   "nbconvert_exporter": "python",
   "pygments_lexer": "ipython3",
   "version": "3.8.2"
  }
 },
 "nbformat": 4,
 "nbformat_minor": 4
}
